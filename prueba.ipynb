{
 "cells": [
  {
   "cell_type": "code",
   "execution_count": 3,
   "metadata": {},
   "outputs": [],
   "source": [
    "import os\n",
    "from dotenv import load_dotenv\n",
    "import pandas as pd\n",
    "\n",
    "load_dotenv()\n",
    "API_KEY = os.getenv(\"API_KEY\")"
   ]
  },
  {
   "cell_type": "code",
   "execution_count": 4,
   "metadata": {},
   "outputs": [],
   "source": [
    "from googleapiclient.discovery import build\n",
    "youtube = build(\"youtube\",\"v3\",developerKey=API_KEY)"
   ]
  },
  {
   "cell_type": "code",
   "execution_count": 5,
   "metadata": {},
   "outputs": [],
   "source": [
    "def get_mananera_ids(channel_id, max_results=5):\n",
    "    response = youtube.search().list(\n",
    "        q=\"#MañaneraDelPueblo\",\n",
    "        channelId=channel_id,\n",
    "        part=\"snippet\",\n",
    "        order=\"date\",\n",
    "        maxResults=max_results,\n",
    "        type=\"video\"\n",
    "    ).execute()\n",
    "\n",
    "    video_ids = []\n",
    "    for item in response[\"items\"]:\n",
    "        video_ids.append(item[\"id\"][\"videoId\"])\n",
    "    return video_ids"
   ]
  },
  {
   "cell_type": "code",
   "execution_count": 6,
   "metadata": {},
   "outputs": [],
   "source": [
    "def get_comments(video_id, max_comments=1000):\n",
    "    comments = []\n",
    "    next_page_token = None\n",
    "    while len(comments) < max_comments:\n",
    "        request = youtube.commentThreads().list(\n",
    "            part=\"snippet\",\n",
    "            videoId=video_id,\n",
    "            maxResults=100,\n",
    "            pageToken=next_page_token,\n",
    "            textFormat=\"plainText\"\n",
    "        )\n",
    "        response = request.execute()\n",
    "\n",
    "        for item in response.get(\"items\", []):\n",
    "            snippet = item[\"snippet\"][\"topLevelComment\"][\"snippet\"]\n",
    "            comments.append({\n",
    "                \"video_id\": video_id,\n",
    "                \"comment_id\": item[\"id\"],\n",
    "                \"author_id\": snippet.get(\"authorChannelId\", {}).get(\"value\", \"NA\"),\n",
    "                \"author_name\": snippet.get(\"authorDisplayName\", \"NA\"),\n",
    "                \"comment_text\": snippet.get(\"textDisplay\", \"NA\"),\n",
    "                \"published_at\": snippet.get(\"publishedAt\", \"NA\")\n",
    "            })\n",
    "\n",
    "        # mover fuera del for\n",
    "        next_page_token = response.get(\"nextPageToken\")\n",
    "        if not next_page_token:\n",
    "            break\n",
    "    return comments"
   ]
  },
  {
   "cell_type": "code",
   "execution_count": 7,
   "metadata": {},
   "outputs": [],
   "source": [
    "CHANNEL_ID = \"UCvzHrtf9by1-UY67SfZse8w\" \n",
    "\n",
    "ids = get_mananera_ids(CHANNEL_ID, max_results=5)"
   ]
  },
  {
   "cell_type": "code",
   "execution_count": 9,
   "metadata": {},
   "outputs": [],
   "source": [
    "video_ids = get_mananera_ids(CHANNEL_ID,max_results=5)\n",
    "\n",
    "all_comments = []\n",
    "\n",
    "for vid in video_ids:\n",
    "    comments = get_comments(vid)\n",
    "    all_comments.extend(comments)\n",
    "\n",
    "df = pd.DataFrame(all_comments)\n",
    "df.to_csv(\"data/comments.csv\")\n"
   ]
  },
  {
   "cell_type": "code",
   "execution_count": null,
   "metadata": {},
   "outputs": [],
   "source": []
  }
 ],
 "metadata": {
  "kernelspec": {
   "display_name": "venv",
   "language": "python",
   "name": "python3"
  },
  "language_info": {
   "codemirror_mode": {
    "name": "ipython",
    "version": 3
   },
   "file_extension": ".py",
   "mimetype": "text/x-python",
   "name": "python",
   "nbconvert_exporter": "python",
   "pygments_lexer": "ipython3",
   "version": "3.13.1"
  }
 },
 "nbformat": 4,
 "nbformat_minor": 2
}
